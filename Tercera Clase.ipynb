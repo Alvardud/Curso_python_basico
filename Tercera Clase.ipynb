{
 "cells": [
  {
   "cell_type": "code",
   "execution_count": 1,
   "metadata": {},
   "outputs": [],
   "source": [
    "#1. Escribir un programa que imprima si un\n",
    "#número es par o impar."
   ]
  },
  {
   "cell_type": "code",
   "execution_count": 8,
   "metadata": {
    "scrolled": true
   },
   "outputs": [
    {
     "name": "stdout",
     "output_type": "stream",
     "text": [
      "Digite el número: 44\n",
      "El número 44 es par\n"
     ]
    }
   ],
   "source": [
    "numero = int(input('Digite el número: '))\n",
    "if(numero%2==0):\n",
    "    print('El número %d es par'%numero)\n",
    "else:\n",
    "    print('El número %d es impar'%numero)"
   ]
  },
  {
   "cell_type": "code",
   "execution_count": 9,
   "metadata": {},
   "outputs": [],
   "source": [
    "#2. Escribir un programa que almacene la\n",
    "#cadena de caracteres contraseña en una\n",
    "#variable, pregunte al usuario por la\n",
    "#contraseña hasta que introduzca la\n",
    "#contraseña correcta."
   ]
  },
  {
   "cell_type": "code",
   "execution_count": 16,
   "metadata": {},
   "outputs": [
    {
     "name": "stdout",
     "output_type": "stream",
     "text": [
      "Digite su contraseña: nombre\n",
      "Contraseña incorrecta\n",
      "Digite su contraseña: contraseña\n",
      "Contraseña correcta\n"
     ]
    }
   ],
   "source": [
    "validador_contraseña = 'contraseña'\n",
    "bandera = True\n",
    "while (bandera):\n",
    "    contraseña = input('Digite su contraseña: ')\n",
    "    if(contraseña == validador_contraseña):\n",
    "        print('Contraseña correcta')\n",
    "        bandera = False\n",
    "    else:\n",
    "        print('Contraseña incorrecta')"
   ]
  },
  {
   "cell_type": "code",
   "execution_count": null,
   "metadata": {},
   "outputs": [],
   "source": [
    "#3. Escriba un programa que pida el año\n",
    "#actual y un año cualquiera y que escriba\n",
    "#cuántos años han pasado desde ese año\n",
    "#o cuántos años faltan para llegar a ese\n",
    "#año."
   ]
  },
  {
   "cell_type": "code",
   "execution_count": 24,
   "metadata": {},
   "outputs": [
    {
     "name": "stdout",
     "output_type": "stream",
     "text": [
      "¿En que año estamos?: 2020\n",
      "Escriba un año cualquiera: 2016\n",
      "Pasaron 4 año(s) desde 2016\n"
     ]
    }
   ],
   "source": [
    "año_actual = int(input('¿En que año estamos?: '))\n",
    "año_calcular = int(input('Escriba un año cualquiera: '))\n",
    "if(año_actual > año_calcular):\n",
    "    print('Pasaron %d año(s) desde %d'%((año_actual-año_calcular),año_calcular))\n",
    "elif(año_actual < año_calcular):\n",
    "    print('Faltan %d año(s) para llegar a %d'%((año_calcular-año_actual),año_calcular))\n",
    "else:\n",
    "    print('Ambos estan en el mismo año')"
   ]
  }
 ],
 "metadata": {
  "kernelspec": {
   "display_name": "Python 3",
   "language": "python",
   "name": "python3"
  },
  "language_info": {
   "codemirror_mode": {
    "name": "ipython",
    "version": 3
   },
   "file_extension": ".py",
   "mimetype": "text/x-python",
   "name": "python",
   "nbconvert_exporter": "python",
   "pygments_lexer": "ipython3",
   "version": "3.7.4"
  }
 },
 "nbformat": 4,
 "nbformat_minor": 2
}
