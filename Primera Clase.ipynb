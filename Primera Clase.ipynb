{
 "cells": [
  {
   "cell_type": "code",
   "execution_count": 2,
   "metadata": {},
   "outputs": [],
   "source": [
    "#1. Escribir un programa que pregunte el nombre del usuario en la consola y después de que el usuario\n",
    "#lo introduzca muestre por pantalla la cadena ¡Hola <nombre>!, donde <nombre> es el nombre que\n",
    "#el usuario haya introducido."
   ]
  },
  {
   "cell_type": "code",
   "execution_count": 3,
   "metadata": {},
   "outputs": [
    {
     "name": "stdout",
     "output_type": "stream",
     "text": [
      "Introduzca su nombreAlvaro\n",
      "Hola  Alvaro\n"
     ]
    }
   ],
   "source": [
    "nombre = input('Introduzca su nombre: ')\n",
    "print ('Hola ',nombre)"
   ]
  },
  {
   "cell_type": "code",
   "execution_count": 4,
   "metadata": {},
   "outputs": [],
   "source": [
    "#2. Escribir un programa que pida al usuario su peso (en kg) y estatura (en metros), calcule el índice de\n",
    "#masa corporal y lo almacene en una variable, y muestre por pantalla la frase Tu índice de masa\n",
    "#corporal es <imc> donde <imc> es el índice de masa corporal calculado redondeado con dos\n",
    "#decimales."
   ]
  },
  {
   "cell_type": "code",
   "execution_count": 6,
   "metadata": {},
   "outputs": [
    {
     "name": "stdout",
     "output_type": "stream",
     "text": [
      "Introduzca su peso (kg): 70\n",
      "Introduzca su estatura(metros): 1.72\n",
      "Tu índice de masa corporal es:  23.66\n"
     ]
    }
   ],
   "source": [
    "peso = float(input('Introduzca su peso (kg): '))\n",
    "estatura = float(input('Introduzca su estatura(metros): '))\n",
    "imc = round(peso/(estatura*estatura),2)\n",
    "print('Tu índice de masa corporal es: ',imc)"
   ]
  },
  {
   "cell_type": "code",
   "execution_count": null,
   "metadata": {},
   "outputs": [],
   "source": [
    "#3. Escribir un programa que pregunte al usuario una cantidad a invertir, el interés anual y el número de\n",
    "#años, y muestre por pantalla el capital obtenido en la inversión."
   ]
  },
  {
   "cell_type": "code",
   "execution_count": 8,
   "metadata": {},
   "outputs": [
    {
     "name": "stdout",
     "output_type": "stream",
     "text": [
      "Introduzca la cantidad a invertir: 5000\n",
      "Interes anual(%): 4.5\n",
      "Numero de años: 3\n",
      "El capital total obtenido es:  5675.0\n"
     ]
    }
   ],
   "source": [
    "inversion = float(input('Introduzca la cantidad a invertir: '))\n",
    "interes = float(input('Interes anual(%): '))\n",
    "años = int(input('Numero de años: ')) \n",
    "capital = inversion+((inversion*(interes/100))*años)\n",
    "print('El capital total obtenido es: ',capital)"
   ]
  },
  {
   "cell_type": "code",
   "execution_count": 9,
   "metadata": {},
   "outputs": [],
   "source": [
    "#4. Una panadería vende barras de pan a 3.49€ cada una. El pan que no es el día tiene un descuento\n",
    "#del 60%. Escribir un programa que comience leyendo el número de barras vendidas que no son del\n",
    "#día. Después el programa debe mostrar el precio habitual de una barra de pan, el descuento que se\n",
    "#le hace por no ser fresca y el coste final total."
   ]
  },
  {
   "cell_type": "code",
   "execution_count": 19,
   "metadata": {},
   "outputs": [
    {
     "name": "stdout",
     "output_type": "stream",
     "text": [
      "Número de barras vendidas: 5\n",
      "El precio habitual de una barra de pan es 3.49€\n",
      "El descuento proporcionado por no ser una barra fresca es 0.6% y su precio 2.09€\n",
      "El coste final es: 10.47€\n"
     ]
    }
   ],
   "source": [
    "barras_vendidas = int(input('Número de barras vendidas (no son del día): '))\n",
    "descuento = 0.6\n",
    "precio = 3.49\n",
    "precio_descuento = round((precio*descuento),2)\n",
    "print('El precio habitual de una barra de pan es '+str(precio)+\"€\")\n",
    "print('El descuento proporcionado por no ser una barra fresca es '+str(descuento)+\"% y su precio \"+str(precio_descuento)+\"€\")\n",
    "coste_total = round(barras_vendidas*(precio*descuento),2)\n",
    "print('El coste final es: '+str(coste_total)+\"€\")"
   ]
  },
  {
   "cell_type": "code",
   "execution_count": null,
   "metadata": {},
   "outputs": [],
   "source": []
  }
 ],
 "metadata": {
  "kernelspec": {
   "display_name": "Python 3",
   "language": "python",
   "name": "python3"
  },
  "language_info": {
   "codemirror_mode": {
    "name": "ipython",
    "version": 3
   },
   "file_extension": ".py",
   "mimetype": "text/x-python",
   "name": "python",
   "nbconvert_exporter": "python",
   "pygments_lexer": "ipython3",
   "version": "3.7.4"
  }
 },
 "nbformat": 4,
 "nbformat_minor": 2
}
